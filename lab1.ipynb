{
 "cells": [
  {
   "cell_type": "markdown",
   "metadata": {},
   "source": [
    "#### Датасет (см. tlights.zip в разделе Файлы канала \"С3. Компьютерное зрение\" ) содержит изображения светофоров. Необходимо классифицировать изображения по цвету сигнала:\n",
    "\n",
    "* изображения с зеленым сигналом,\n",
    "* изображения с красным сигналом,\n",
    "* изображения с желтым сигналом,\n",
    "* изображения не поддающиеся классификации.\n",
    "\n",
    "В результате работы программы должны быть четыре отдельных списка имен файлов.\n",
    "Решение может быть выполнено на языке python или на языке MATLAB.\n",
    "Может быть представлено в виде отдельной программы (скрипт на языка python или MATLAB) или в виде блокнота (Jupyter Notebook или Live Script).\n",
    "Ответ может быть прикреплен к данному заданию в виде файла или может быть отправлена ссылка на репозиторий.\n",
    "Mon travail"
   ]
  },
  {
   "cell_type": "code",
   "execution_count": 1,
   "metadata": {},
   "outputs": [
    {
     "name": "stdout",
     "output_type": "stream",
     "text": [
      "Изображения с красным : ['100_01.jpg', '100_02.jpg', '100_03.jpg', '100_04.jpg', '100_05.jpg', '100_06.jpg', '100_07.jpg', '100_08.jpg', '100_10.jpg', '100_11.jpg', '100_12.jpg', '100_15.jpg', '100_16.jpg', '100_19.jpg', '100_20.jpg', '100_24.jpg', '100_25.jpg', '200_02.jpg', '200_03.jpg', '200_04.jpg', '200_05.jpg', '200_08.jpg', '200_09.jpg', '200_13.jpg', '200_15.jpg', '200_24.jpg', '200_25.jpg']\n",
      "Изображения с зеленым : ['100_09.jpg', '100_13.jpg', '100_17.jpg', '200_06.jpg', '200_11.jpg', '200_12.jpg', '200_16.jpg', '200_17.jpg', '200_18.jpg', '200_19.jpg', '200_20.jpg', '200_21.jpg']\n",
      "Изображения с желтым : ['100_14.jpg', '100_18.jpg', '100_21.jpg', '100_22.jpg', '100_23.jpg', '200_01.jpg', '200_07.jpg', '200_10.jpg', '200_14.jpg', '200_22.jpg', '200_23.jpg']\n",
      "Несекретные изображения : []\n"
     ]
    }
   ],
   "source": [
    "import cv2\n",
    "import os\n",
    "\n",
    "# Définir les plages de couleurs pour la détection des signaux\n",
    "# Установите цветовые диапазоны для обнаружения сигнала\n",
    "lower_red = (0, 0, 100)\n",
    "upper_red = (100, 100, 255)\n",
    "lower_green = (0, 100, 0)\n",
    "upper_green = (100, 255, 100)\n",
    "lower_yellow = (0, 100, 100)\n",
    "upper_yellow = (100, 255, 255)\n",
    "\n",
    "# Créer des listes pour chaque classe de signal\n",
    "# Создайте списки для каждого класса сигналов\n",
    "red_signal_images = []\n",
    "green_signal_images = []\n",
    "yellow_signal_images = []\n",
    "unclassified_images = []\n",
    "\n",
    "# Répertoire contenant les images\n",
    "# Каталог, содержащий изображения\n",
    "repertoire_images = \"C:/Users/moumi/OneDrive/Bureau/lab1/\"\n",
    "\n",
    "# Parcourir tous les fichiers du répertoire\n",
    "# Просматриваем все файлы в каталоге\n",
    "for filename in os.listdir(repertoire_images):\n",
    "    if filename.endswith(\".jpg\") or filename.endswith(\".png\"):  # Vous pouvez ajouter d'autres extensions d'image au besoin\n",
    "        # Charger l'image\n",
    "        image = cv2.imread(os.path.join(repertoire_images, filename))\n",
    "        if image is not None:\n",
    "            # Convertir l'image en HSV (teinte, saturation, valeur)\n",
    "            hsv_image = cv2.cvtColor(image, cv2.COLOR_BGR2HSV)\n",
    "\n",
    "            # Détection des signaux par couleur\n",
    "            mask_red = cv2.inRange(hsv_image, lower_red, upper_red)\n",
    "            mask_green = cv2.inRange(hsv_image, lower_green, upper_green)\n",
    "            mask_yellow = cv2.inRange(hsv_image, lower_yellow, upper_yellow)\n",
    "\n",
    "            # Compter le nombre de pixels correspondant à chaque couleur\n",
    "            red_pixels = cv2.countNonZero(mask_red)\n",
    "            green_pixels = cv2.countNonZero(mask_green)\n",
    "            yellow_pixels = cv2.countNonZero(mask_yellow)\n",
    "\n",
    "            # Classifier l'image en fonction de la couleur dominante\n",
    "            if red_pixels > green_pixels and red_pixels > yellow_pixels:\n",
    "                red_signal_images.append(filename)\n",
    "            elif green_pixels > red_pixels and green_pixels > yellow_pixels:\n",
    "                green_signal_images.append(filename)\n",
    "            elif yellow_pixels > red_pixels and yellow_pixels > green_pixels:\n",
    "                yellow_signal_images.append(filename)\n",
    "            else:\n",
    "                unclassified_images.append(filename)\n",
    "\n",
    "# Afficher les résultats\n",
    "# Показать результаты\n",
    "print(\"Изображения с красным :\", red_signal_images)\n",
    "print(\"Изображения с зеленым :\", green_signal_images)\n",
    "print(\"Изображения с желтым :\", yellow_signal_images)\n",
    "print(\"Несекретные изображения :\", unclassified_images)\n"
   ]
  },
  {
   "cell_type": "markdown",
   "metadata": {},
   "source": []
  }
 ],
 "metadata": {
  "kernelspec": {
   "display_name": "Python 3",
   "language": "python",
   "name": "python3"
  },
  "language_info": {
   "codemirror_mode": {
    "name": "ipython",
    "version": 3
   },
   "file_extension": ".py",
   "mimetype": "text/x-python",
   "name": "python",
   "nbconvert_exporter": "python",
   "pygments_lexer": "ipython3",
   "version": "3.10.11"
  },
  "orig_nbformat": 4
 },
 "nbformat": 4,
 "nbformat_minor": 2
}
