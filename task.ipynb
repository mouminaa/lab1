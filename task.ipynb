{
 "cells": [
  {
   "cell_type": "code",
   "execution_count": 1,
   "metadata": {},
   "outputs": [],
   "source": [
    "import cv2\n",
    "import os"
   ]
  },
  {
   "cell_type": "code",
   "execution_count": 2,
   "metadata": {},
   "outputs": [],
   "source": [
    "# Dossier contenant les images de feux de circulation\n",
    "# Папка с изображениями светофоров\n",
    "input_folder = '/tlights'  # Remplacez par le chemin vers vos images\n",
    "red_file = 'red.txt'\n",
    "green_file = 'green.txt'\n",
    "yellow_file = 'yellow.txt'\n",
    "uncategorized_file = 'uncategorized.txt'"
   ]
  },
  {
   "cell_type": "code",
   "execution_count": 19,
   "metadata": {},
   "outputs": [
    {
     "name": "stdout",
     "output_type": "stream",
     "text": [
      "Классификация завершена.\n"
     ]
    }
   ],
   "source": [
    "import os\n",
    "import cv2\n",
    "\n",
    "# Chemins des fichiers de sortie\n",
    "red_file = 'red.txt'\n",
    "green_file = 'green.txt'\n",
    "yellow_file = 'yellow.txt'\n",
    "uncategorized_file = 'uncategorized_images.txt'\n",
    "\n",
    "# Dossier d'entrée contenant les images\n",
    "input_folder = 'C:/Users/moumi/OneDrive/Bureau/comv/tlights'\n",
    "\n",
    "# Création des fichiers pour chaque couleur\n",
    "with open(red_file, 'w') as rf, open(green_file, 'w') as gf, open(yellow_file, 'w') as yf, open(uncategorized_file, 'w') as uf:\n",
    "    for filename in os.listdir(input_folder):\n",
    "        if filename.endswith('.jpg') or filename.endswith('.png'):\n",
    "            image_path = os.path.join(input_folder, filename)\n",
    "            image = cv2.imread(image_path)\n",
    "\n",
    "            # Vérifiez si l'image est chargée\n",
    "            if image is None:\n",
    "                print(f\"Erreur de chargement de l'image: {filename}\")\n",
    "                continue\n",
    "\n",
    "            hsv_image = cv2.cvtColor(image, cv2.COLOR_BGR2HSV)\n",
    "\n",
    "            # Définir les plages de couleur\n",
    "            lower_red = (0, 100, 100)\n",
    "            upper_red = (5, 255, 255)\n",
    "            lower_green = (40, 100, 100)\n",
    "            upper_green = (80, 255, 255)\n",
    "            lower_yellow = (20, 100, 100)\n",
    "            upper_yellow = (30, 255, 255)\n",
    "\n",
    "            # Créer des masques\n",
    "            red_mask = cv2.inRange(hsv_image, lower_red, upper_red)\n",
    "            green_mask = cv2.inRange(hsv_image, lower_green, upper_green)\n",
    "            yellow_mask = cv2.inRange(hsv_image, lower_yellow, upper_yellow)\n",
    "\n",
    "            # Vérifier la prédominance des couleurs\n",
    "            if cv2.countNonZero(red_mask) > 0:\n",
    "                rf.write(filename + '\\n')\n",
    "            elif cv2.countNonZero(green_mask) > 0:\n",
    "                gf.write(filename + '\\n')\n",
    "            elif cv2.countNonZero(yellow_mask) > 0:\n",
    "                yf.write(filename + '\\n')\n",
    "            else:\n",
    "                uf.write(filename + '\\n')\n",
    "\n",
    "print(\"Классификация завершена.\")\n"
   ]
  },
  {
   "cell_type": "code",
   "execution_count": null,
   "metadata": {},
   "outputs": [],
   "source": []
  }
 ],
 "metadata": {
  "kernelspec": {
   "display_name": "Python 3",
   "language": "python",
   "name": "python3"
  },
  "language_info": {
   "codemirror_mode": {
    "name": "ipython",
    "version": 3
   },
   "file_extension": ".py",
   "mimetype": "text/x-python",
   "name": "python",
   "nbconvert_exporter": "python",
   "pygments_lexer": "ipython3",
   "version": "3.10.11"
  }
 },
 "nbformat": 4,
 "nbformat_minor": 2
}
